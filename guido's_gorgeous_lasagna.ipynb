{
  "nbformat": 4,
  "nbformat_minor": 0,
  "metadata": {
    "colab": {
      "provenance": [],
      "authorship_tag": "ABX9TyOvL5WS/OH1aadNzHxec+Q3",
      "include_colab_link": true
    },
    "kernelspec": {
      "name": "python3",
      "display_name": "Python 3"
    },
    "language_info": {
      "name": "python"
    }
  },
  "cells": [
    {
      "cell_type": "markdown",
      "metadata": {
        "id": "view-in-github",
        "colab_type": "text"
      },
      "source": [
        "<a href=\"https://colab.research.google.com/github/Renzze-Engr/exercism-python/blob/main/guido's_gorgeous_lasagna.ipynb\" target=\"_parent\"><img src=\"https://colab.research.google.com/assets/colab-badge.svg\" alt=\"Open In Colab\"/></a>"
      ]
    },
    {
      "cell_type": "code",
      "execution_count": 1,
      "metadata": {
        "id": "B0RcHLpmsXFM"
      },
      "outputs": [],
      "source": [
        "EXPECTED_BAKE_TIME = 40\n",
        "PREPARATION_TIME = 2\n"
      ]
    },
    {
      "cell_type": "code",
      "source": [
        "def bake_time_remaining(elapsed_bake_time):\n",
        "    \"\"\"Calculate the bake time remaining.\n",
        "\n",
        "    :param elapsed_bake_time: int - baking time already elapsed.\n",
        "    :return: int - remaining bake time (in minutes) derived from 'EXPECTED_BAKE_TIME'.\n",
        "\n",
        "    Function that takes the actual minutes the lasagna has been in the oven as an argument\n",
        "    and returns how many minutes the lasagna still needs to bake base on the 'EXPECCTED_BAKE_TIME'\n",
        "\n",
        "    \"\"\"\n",
        "    return EXPECTED_BAKE_TIME - elapsed_bake_time"
      ],
      "metadata": {
        "id": "DvL2QLoFtQz1"
      },
      "execution_count": 2,
      "outputs": []
    },
    {
      "cell_type": "code",
      "source": [
        "def preparation_time_in_minutes(number_of_layers):\n",
        "    \"\"\"Caculate the elapsed preparation time.\n",
        "\n",
        "    :param number_of_layers: int - the number of layers in lasagna\n",
        "    :return: int - time elapsed (in minutes) derived from 'PREPERATION_TIME'\n",
        "\n",
        "    This function take one integer representing the number of lasagna layers and the time already spent\n",
        "    in each layer and calculates the total elapsed minutes spent in preparing the lasagna.\n",
        "\n",
        "    \"\"\"\n",
        "    return number_of_layers * PREPARATION_TIME"
      ],
      "metadata": {
        "id": "Dje_Jt6mtZXY"
      },
      "execution_count": 3,
      "outputs": []
    },
    {
      "cell_type": "code",
      "source": [
        "def elapsed_time_in_minutes(number_of_layers, elapsed_bake_time):\n",
        "    \"\"\"Calculate the elapsed cooking time\n",
        "\n",
        "    :param number_of_layers: int - the number of layers in the lasagna applying the 'preparation_time_in_minutes' function\n",
        "    :param elapsed_bake_time: int - elapsed cooking time\n",
        "    :return: int - total time elapsed (in minutes) preparing and cooking\n",
        "\n",
        "    This functions takes two integers representing the number of lasagna layers applying the 'preparation_time_in_minutes' function\n",
        "    and the time already spent baking and calculates the total elapsed times spent cooking the lasagna\n",
        "\n",
        "    \"\"\"\n",
        "    return preparation_time_in_minutes(number_of_layers)"
      ],
      "metadata": {
        "id": "Er-EIB5vtdMn"
      },
      "execution_count": null,
      "outputs": []
    }
  ]
}