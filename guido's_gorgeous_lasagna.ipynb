{
  "nbformat": 4,
  "nbformat_minor": 0,
  "metadata": {
    "colab": {
      "provenance": [],
      "authorship_tag": "ABX9TyO2qHWlwO0wrdX2Q9Yh/t7O",
      "include_colab_link": true
    },
    "kernelspec": {
      "name": "python3",
      "display_name": "Python 3"
    },
    "language_info": {
      "name": "python"
    }
  },
  "cells": [
    {
      "cell_type": "markdown",
      "metadata": {
        "id": "view-in-github",
        "colab_type": "text"
      },
      "source": [
        "<a href=\"https://colab.research.google.com/github/Renzze-Engr/exercism-python/blob/main/guido's_gorgeous_lasagna.ipynb\" target=\"_parent\"><img src=\"https://colab.research.google.com/assets/colab-badge.svg\" alt=\"Open In Colab\"/></a>"
      ]
    },
    {
      "cell_type": "markdown",
      "source": [
        "###Task 1: Define expected bake time in minutes as a constant\n",
        "Define the EXPECTED_BAKE_TIME constant that represents how many minutes the lasagna should bake in the oven.\n",
        "According to your cookbook, the Lasagna should be in the oven for 40 minutes:\n",
        "\n",
        "Answer:\n",
        "\n",
        "print(EXPECTED_BAKE_TIME)\n",
        "\n",
        "40\n",
        "\n"
      ],
      "metadata": {
        "id": "-yapd4I2vEti"
      }
    },
    {
      "cell_type": "code",
      "execution_count": 1,
      "metadata": {
        "id": "B0RcHLpmsXFM"
      },
      "outputs": [],
      "source": [
        "EXPECTED_BAKE_TIME = 40\n",
        "PREPARATION_TIME = 2\n"
      ]
    },
    {
      "cell_type": "markdown",
      "source": [
        "###Task 2: Calculate remaining bake time in minutes\n",
        "Complete the bake_time_remaining() function that takes the actual minutes the lasagna has been in the oven as an argument and\n",
        "returns how many minutes the lasagna still needs to bake based on the EXPECTED_BAKE_TIME constant.\n",
        "\n",
        "Answer:\n",
        "\n",
        "bake_time_remaining(30)\n",
        "\n",
        "10"
      ],
      "metadata": {
        "id": "a1WOxB4lvPld"
      }
    },
    {
      "cell_type": "code",
      "source": [
        "def bake_time_remaining(elapsed_bake_time):\n",
        "    \"\"\"Calculate the bake time remaining.\n",
        "\n",
        "    :param elapsed_bake_time: int - baking time already elapsed.\n",
        "    :return: int - remaining bake time (in minutes) derived from 'EXPECTED_BAKE_TIME'.\n",
        "\n",
        "    Function that takes the actual minutes the lasagna has been in the oven as an argument\n",
        "    and returns how many minutes the lasagna still needs to bake base on the 'EXPECCTED_BAKE_TIME'\n",
        "\n",
        "    \"\"\"\n",
        "    return EXPECTED_BAKE_TIME - elapsed_bake_time"
      ],
      "metadata": {
        "id": "DvL2QLoFtQz1"
      },
      "execution_count": 2,
      "outputs": []
    },
    {
      "cell_type": "markdown",
      "source": [
        "###Task3: Calculate preperation time in minutes\n",
        "Define the preparation_time_in_minutes() function that takes the number_of_layers you want to add to the lasagna as an argument and\n",
        "returns how many minutes you would spend making them. Assume each layer takes 2 minutes to prepare.\n",
        "\n",
        "Answer:\n",
        "\n",
        "def preparation_time_in_minutes(number_of_layers):\n",
        "\n",
        "        ...\n",
        "        ...\n",
        "        \n",
        "\n",
        "preparation_time_in_minutes(2)\n",
        "\n",
        "4"
      ],
      "metadata": {
        "id": "jEHyrCpFvUar"
      }
    },
    {
      "cell_type": "code",
      "source": [
        "def preparation_time_in_minutes(number_of_layers):\n",
        "    \"\"\"Caculate the elapsed preparation time.\n",
        "\n",
        "    :param number_of_layers: int - the number of layers in lasagna\n",
        "    :return: int - time elapsed (in minutes) derived from 'PREPERATION_TIME'\n",
        "\n",
        "    This function take one integer representing the number of lasagna layers and the time already spent\n",
        "    in each layer and calculates the total elapsed minutes spent in preparing the lasagna.\n",
        "\n",
        "    \"\"\"\n",
        "    return number_of_layers * PREPARATION_TIME"
      ],
      "metadata": {
        "id": "Dje_Jt6mtZXY"
      },
      "execution_count": 3,
      "outputs": []
    },
    {
      "cell_type": "markdown",
      "source": [
        "###Task4: Calculate total elapsed cooking time (prep + bake) in minutes\n",
        "Define the elapsed_time_in_minutes() function that takes two parameters as arguments: number_of_layers (the number of layers added to\n",
        "the lasagna) and elapsed_bake_time (the number of minutes the lasagna has been baking in the oven). This function should return the\n",
        "total number of minutes you have been cooking, or the sum of your preparation time and the time the lasagna has already spent baking\n",
        "in the oven.\n",
        "\n",
        "Answer:\n",
        ">>> def elapsed_time_in_minutes(number_of_layers, elapsed_bake_time):\n",
        "\n",
        "        ...\n",
        "        ...\n",
        "        \n",
        "\n",
        ">>> elapsed_time_in_minutes(3, 20)\n",
        "\n",
        "26"
      ],
      "metadata": {
        "id": "png-gKz0vb37"
      }
    },
    {
      "cell_type": "code",
      "source": [
        "def elapsed_time_in_minutes(number_of_layers, elapsed_bake_time):\n",
        "    \"\"\"Calculate the elapsed cooking time\n",
        "\n",
        "    :param number_of_layers: int - the number of layers in the lasagna applying the 'preparation_time_in_minutes' function\n",
        "    :param elapsed_bake_time: int - elapsed cooking time\n",
        "    :return: int - total time elapsed (in minutes) preparing and cooking\n",
        "\n",
        "    This functions takes two integers representing the number of lasagna layers applying the 'preparation_time_in_minutes' function\n",
        "    and the time already spent baking and calculates the total elapsed times spent cooking the lasagna\n",
        "\n",
        "    \"\"\"\n",
        "    return preparation_time_in_minutes(number_of_layers)"
      ],
      "metadata": {
        "id": "Er-EIB5vtdMn"
      },
      "execution_count": null,
      "outputs": []
    },
    {
      "cell_type": "markdown",
      "source": [
        "###Task5: update recipe with notes\n",
        "Go back through the recipe, adding \"notes\" in the form of function docstrings.\n",
        "\n",
        "Answer:\n",
        "def elapsed_time_in_minutes(number_of_layers, elapsed_bake_time):\n",
        "\n",
        "    \"\"\"Calculate the elapsed cooking time.\n",
        "\n",
        "    :param number_of_layers: int - the number of layers in the lasagna.\n",
        "    :param elapsed_bake_time: int - elapsed cooking time.\n",
        "    :return: int - total time elapsed (in minutes) preparing and cooking.\n",
        "\n",
        "    This function takes two integers representing the number of lasagna layers and the\n",
        "    time already spent baking and calculates the total elapsed minutes spent cooking the\n",
        "    lasagna.\n",
        "    \"\"\""
      ],
      "metadata": {
        "id": "AP02a8bFvimk"
      }
    }
  ]
}